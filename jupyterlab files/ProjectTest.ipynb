{
 "cells": [
  {
   "cell_type": "code",
   "execution_count": 21,
   "id": "907bb367-bc9b-4bce-9e29-92293b4def89",
   "metadata": {},
   "outputs": [
    {
     "name": "stdout",
     "output_type": "stream",
     "text": [
      "Empty DataFrame\n",
      "Columns: [Marital status, Application mode, Application order, Course, Daytime/evening attendance\t, Previous qualification, Previous qualification (grade), Nacionality, Mother's qualification, Father's qualification, Mother's occupation, Father's occupation, Admission grade, Displaced, Educational special needs, Debtor, Tuition fees up to date, Gender, Scholarship holder, Age at enrollment, International, Curricular units 1st sem (credited), Curricular units 1st sem (enrolled), Curricular units 1st sem (evaluations), Curricular units 1st sem (approved), Curricular units 1st sem (grade), Curricular units 1st sem (without evaluations), Curricular units 2nd sem (credited), Curricular units 2nd sem (enrolled), Curricular units 2nd sem (evaluations), Curricular units 2nd sem (approved), Curricular units 2nd sem (grade), Curricular units 2nd sem (without evaluations), Unemployment rate, Inflation rate, GDP, Target]\n",
      "Index: []\n",
      "\n",
      "[0 rows x 37 columns]\n"
     ]
    }
   ],
   "source": [
    "import warnings\n",
    "warnings.filterwarnings(\"ignore\", category=DeprecationWarning)\n",
    "\n",
    "import pandas as pd\n",
    "import numpy as py\n",
    "\n",
    "header=pd.read_csv('.\\data\\StudentAcademicSuccess\\data.csv',nrows=0)\n",
    "\n",
    "\n",
    "print(header.head())"
   ]
  },
  {
   "cell_type": "code",
   "execution_count": 22,
   "id": "81bb3007-5910-4166-81c0-ba7420469deb",
   "metadata": {},
   "outputs": [
    {
     "name": "stdout",
     "output_type": "stream",
     "text": [
      "   Marital status  Application mode  Application order  Course  \\\n",
      "0               1                17                  5     171   \n",
      "1               1                15                  1    9254   \n",
      "2               1                 1                  5    9070   \n",
      "3               1                17                  2    9773   \n",
      "4               2                39                  1    8014   \n",
      "\n",
      "   Daytime/evening attendance\\t  Previous qualification  \\\n",
      "0                             1                       1   \n",
      "1                             1                       1   \n",
      "2                             1                       1   \n",
      "3                             1                       1   \n",
      "4                             0                       1   \n",
      "\n",
      "   Previous qualification (grade)  Nacionality  Mother's qualification  \\\n",
      "0                           122.0            1                      19   \n",
      "1                           160.0            1                       1   \n",
      "2                           122.0            1                      37   \n",
      "3                           122.0            1                      38   \n",
      "4                           100.0            1                      37   \n",
      "\n",
      "   Father's qualification  ...  Curricular units 2nd sem (credited)  \\\n",
      "0                      12  ...                                    0   \n",
      "1                       3  ...                                    0   \n",
      "2                      37  ...                                    0   \n",
      "3                      37  ...                                    0   \n",
      "4                      38  ...                                    0   \n",
      "\n",
      "   Curricular units 2nd sem (enrolled)  \\\n",
      "0                                    0   \n",
      "1                                    6   \n",
      "2                                    6   \n",
      "3                                    6   \n",
      "4                                    6   \n",
      "\n",
      "   Curricular units 2nd sem (evaluations)  \\\n",
      "0                                       0   \n",
      "1                                       6   \n",
      "2                                       0   \n",
      "3                                      10   \n",
      "4                                       6   \n",
      "\n",
      "   Curricular units 2nd sem (approved)  Curricular units 2nd sem (grade)  \\\n",
      "0                                    0                          0.000000   \n",
      "1                                    6                         13.666667   \n",
      "2                                    0                          0.000000   \n",
      "3                                    5                         12.400000   \n",
      "4                                    6                         13.000000   \n",
      "\n",
      "   Curricular units 2nd sem (without evaluations)  Unemployment rate  \\\n",
      "0                                               0               10.8   \n",
      "1                                               0               13.9   \n",
      "2                                               0               10.8   \n",
      "3                                               0                9.4   \n",
      "4                                               0               13.9   \n",
      "\n",
      "   Inflation rate   GDP    Target  \n",
      "0             1.4  1.74   Dropout  \n",
      "1            -0.3  0.79  Graduate  \n",
      "2             1.4  1.74   Dropout  \n",
      "3            -0.8 -3.12  Graduate  \n",
      "4            -0.3  0.79  Graduate  \n",
      "\n",
      "[5 rows x 37 columns]\n"
     ]
    }
   ],
   "source": [
    "\n",
    "\n",
    "df=pd.read_csv('.\\data\\StudentAcademicSuccess\\data.csv')\n",
    "print(df.head())\n",
    "#df.shape()"
   ]
  },
  {
   "cell_type": "code",
   "execution_count": 6,
   "id": "b8473954-ac18-4d04-b22e-b82cfc581dfe",
   "metadata": {},
   "outputs": [
    {
     "data": {
      "text/plain": [
       "Marital status                                    0\n",
       "Application mode                                  0\n",
       "Application order                                 0\n",
       "Course                                            0\n",
       "Daytime/evening attendance\\t                      0\n",
       "Previous qualification                            0\n",
       "Previous qualification (grade)                    0\n",
       "Nacionality                                       0\n",
       "Mother's qualification                            0\n",
       "Father's qualification                            0\n",
       "Mother's occupation                               0\n",
       "Father's occupation                               0\n",
       "Admission grade                                   0\n",
       "Displaced                                         0\n",
       "Educational special needs                         0\n",
       "Debtor                                            0\n",
       "Tuition fees up to date                           0\n",
       "Gender                                            0\n",
       "Scholarship holder                                0\n",
       "Age at enrollment                                 0\n",
       "International                                     0\n",
       "Curricular units 1st sem (credited)               0\n",
       "Curricular units 1st sem (enrolled)               0\n",
       "Curricular units 1st sem (evaluations)            0\n",
       "Curricular units 1st sem (approved)               0\n",
       "Curricular units 1st sem (grade)                  0\n",
       "Curricular units 1st sem (without evaluations)    0\n",
       "Curricular units 2nd sem (credited)               0\n",
       "Curricular units 2nd sem (enrolled)               0\n",
       "Curricular units 2nd sem (evaluations)            0\n",
       "Curricular units 2nd sem (approved)               0\n",
       "Curricular units 2nd sem (grade)                  0\n",
       "Curricular units 2nd sem (without evaluations)    0\n",
       "Unemployment rate                                 0\n",
       "Inflation rate                                    0\n",
       "GDP                                               0\n",
       "Target                                            0\n",
       "dtype: int64"
      ]
     },
     "execution_count": 6,
     "metadata": {},
     "output_type": "execute_result"
    }
   ],
   "source": [
    "df.isnull().sum()"
   ]
  },
  {
   "cell_type": "code",
   "execution_count": 7,
   "id": "c4bf7984-121e-4c1d-b9eb-9ae6eee6ee91",
   "metadata": {},
   "outputs": [
    {
     "data": {
      "text/html": [
       "<div>\n",
       "<style scoped>\n",
       "    .dataframe tbody tr th:only-of-type {\n",
       "        vertical-align: middle;\n",
       "    }\n",
       "\n",
       "    .dataframe tbody tr th {\n",
       "        vertical-align: top;\n",
       "    }\n",
       "\n",
       "    .dataframe thead th {\n",
       "        text-align: right;\n",
       "    }\n",
       "</style>\n",
       "<table border=\"1\" class=\"dataframe\">\n",
       "  <thead>\n",
       "    <tr style=\"text-align: right;\">\n",
       "      <th></th>\n",
       "      <th>Marital status</th>\n",
       "      <th>Application mode</th>\n",
       "      <th>Application order</th>\n",
       "      <th>Course</th>\n",
       "      <th>Daytime/evening attendance\\t</th>\n",
       "      <th>Previous qualification</th>\n",
       "      <th>Previous qualification (grade)</th>\n",
       "      <th>Nacionality</th>\n",
       "      <th>Mother's qualification</th>\n",
       "      <th>Father's qualification</th>\n",
       "      <th>...</th>\n",
       "      <th>Curricular units 1st sem (without evaluations)</th>\n",
       "      <th>Curricular units 2nd sem (credited)</th>\n",
       "      <th>Curricular units 2nd sem (enrolled)</th>\n",
       "      <th>Curricular units 2nd sem (evaluations)</th>\n",
       "      <th>Curricular units 2nd sem (approved)</th>\n",
       "      <th>Curricular units 2nd sem (grade)</th>\n",
       "      <th>Curricular units 2nd sem (without evaluations)</th>\n",
       "      <th>Unemployment rate</th>\n",
       "      <th>Inflation rate</th>\n",
       "      <th>GDP</th>\n",
       "    </tr>\n",
       "  </thead>\n",
       "  <tbody>\n",
       "    <tr>\n",
       "      <th>count</th>\n",
       "      <td>4424.000000</td>\n",
       "      <td>4424.000000</td>\n",
       "      <td>4424.000000</td>\n",
       "      <td>4424.000000</td>\n",
       "      <td>4424.000000</td>\n",
       "      <td>4424.000000</td>\n",
       "      <td>4424.000000</td>\n",
       "      <td>4424.000000</td>\n",
       "      <td>4424.000000</td>\n",
       "      <td>4424.000000</td>\n",
       "      <td>...</td>\n",
       "      <td>4424.000000</td>\n",
       "      <td>4424.000000</td>\n",
       "      <td>4424.000000</td>\n",
       "      <td>4424.000000</td>\n",
       "      <td>4424.000000</td>\n",
       "      <td>4424.000000</td>\n",
       "      <td>4424.000000</td>\n",
       "      <td>4424.000000</td>\n",
       "      <td>4424.000000</td>\n",
       "      <td>4424.000000</td>\n",
       "    </tr>\n",
       "    <tr>\n",
       "      <th>mean</th>\n",
       "      <td>1.178571</td>\n",
       "      <td>18.669078</td>\n",
       "      <td>1.727848</td>\n",
       "      <td>8856.642631</td>\n",
       "      <td>0.890823</td>\n",
       "      <td>4.577758</td>\n",
       "      <td>132.613314</td>\n",
       "      <td>1.873192</td>\n",
       "      <td>19.561935</td>\n",
       "      <td>22.275316</td>\n",
       "      <td>...</td>\n",
       "      <td>0.137658</td>\n",
       "      <td>0.541817</td>\n",
       "      <td>6.232143</td>\n",
       "      <td>8.063291</td>\n",
       "      <td>4.435805</td>\n",
       "      <td>10.230206</td>\n",
       "      <td>0.150316</td>\n",
       "      <td>11.566139</td>\n",
       "      <td>1.228029</td>\n",
       "      <td>0.001969</td>\n",
       "    </tr>\n",
       "    <tr>\n",
       "      <th>std</th>\n",
       "      <td>0.605747</td>\n",
       "      <td>17.484682</td>\n",
       "      <td>1.313793</td>\n",
       "      <td>2063.566416</td>\n",
       "      <td>0.311897</td>\n",
       "      <td>10.216592</td>\n",
       "      <td>13.188332</td>\n",
       "      <td>6.914514</td>\n",
       "      <td>15.603186</td>\n",
       "      <td>15.343108</td>\n",
       "      <td>...</td>\n",
       "      <td>0.690880</td>\n",
       "      <td>1.918546</td>\n",
       "      <td>2.195951</td>\n",
       "      <td>3.947951</td>\n",
       "      <td>3.014764</td>\n",
       "      <td>5.210808</td>\n",
       "      <td>0.753774</td>\n",
       "      <td>2.663850</td>\n",
       "      <td>1.382711</td>\n",
       "      <td>2.269935</td>\n",
       "    </tr>\n",
       "    <tr>\n",
       "      <th>min</th>\n",
       "      <td>1.000000</td>\n",
       "      <td>1.000000</td>\n",
       "      <td>0.000000</td>\n",
       "      <td>33.000000</td>\n",
       "      <td>0.000000</td>\n",
       "      <td>1.000000</td>\n",
       "      <td>95.000000</td>\n",
       "      <td>1.000000</td>\n",
       "      <td>1.000000</td>\n",
       "      <td>1.000000</td>\n",
       "      <td>...</td>\n",
       "      <td>0.000000</td>\n",
       "      <td>0.000000</td>\n",
       "      <td>0.000000</td>\n",
       "      <td>0.000000</td>\n",
       "      <td>0.000000</td>\n",
       "      <td>0.000000</td>\n",
       "      <td>0.000000</td>\n",
       "      <td>7.600000</td>\n",
       "      <td>-0.800000</td>\n",
       "      <td>-4.060000</td>\n",
       "    </tr>\n",
       "    <tr>\n",
       "      <th>25%</th>\n",
       "      <td>1.000000</td>\n",
       "      <td>1.000000</td>\n",
       "      <td>1.000000</td>\n",
       "      <td>9085.000000</td>\n",
       "      <td>1.000000</td>\n",
       "      <td>1.000000</td>\n",
       "      <td>125.000000</td>\n",
       "      <td>1.000000</td>\n",
       "      <td>2.000000</td>\n",
       "      <td>3.000000</td>\n",
       "      <td>...</td>\n",
       "      <td>0.000000</td>\n",
       "      <td>0.000000</td>\n",
       "      <td>5.000000</td>\n",
       "      <td>6.000000</td>\n",
       "      <td>2.000000</td>\n",
       "      <td>10.750000</td>\n",
       "      <td>0.000000</td>\n",
       "      <td>9.400000</td>\n",
       "      <td>0.300000</td>\n",
       "      <td>-1.700000</td>\n",
       "    </tr>\n",
       "    <tr>\n",
       "      <th>50%</th>\n",
       "      <td>1.000000</td>\n",
       "      <td>17.000000</td>\n",
       "      <td>1.000000</td>\n",
       "      <td>9238.000000</td>\n",
       "      <td>1.000000</td>\n",
       "      <td>1.000000</td>\n",
       "      <td>133.100000</td>\n",
       "      <td>1.000000</td>\n",
       "      <td>19.000000</td>\n",
       "      <td>19.000000</td>\n",
       "      <td>...</td>\n",
       "      <td>0.000000</td>\n",
       "      <td>0.000000</td>\n",
       "      <td>6.000000</td>\n",
       "      <td>8.000000</td>\n",
       "      <td>5.000000</td>\n",
       "      <td>12.200000</td>\n",
       "      <td>0.000000</td>\n",
       "      <td>11.100000</td>\n",
       "      <td>1.400000</td>\n",
       "      <td>0.320000</td>\n",
       "    </tr>\n",
       "    <tr>\n",
       "      <th>75%</th>\n",
       "      <td>1.000000</td>\n",
       "      <td>39.000000</td>\n",
       "      <td>2.000000</td>\n",
       "      <td>9556.000000</td>\n",
       "      <td>1.000000</td>\n",
       "      <td>1.000000</td>\n",
       "      <td>140.000000</td>\n",
       "      <td>1.000000</td>\n",
       "      <td>37.000000</td>\n",
       "      <td>37.000000</td>\n",
       "      <td>...</td>\n",
       "      <td>0.000000</td>\n",
       "      <td>0.000000</td>\n",
       "      <td>7.000000</td>\n",
       "      <td>10.000000</td>\n",
       "      <td>6.000000</td>\n",
       "      <td>13.333333</td>\n",
       "      <td>0.000000</td>\n",
       "      <td>13.900000</td>\n",
       "      <td>2.600000</td>\n",
       "      <td>1.790000</td>\n",
       "    </tr>\n",
       "    <tr>\n",
       "      <th>max</th>\n",
       "      <td>6.000000</td>\n",
       "      <td>57.000000</td>\n",
       "      <td>9.000000</td>\n",
       "      <td>9991.000000</td>\n",
       "      <td>1.000000</td>\n",
       "      <td>43.000000</td>\n",
       "      <td>190.000000</td>\n",
       "      <td>109.000000</td>\n",
       "      <td>44.000000</td>\n",
       "      <td>44.000000</td>\n",
       "      <td>...</td>\n",
       "      <td>12.000000</td>\n",
       "      <td>19.000000</td>\n",
       "      <td>23.000000</td>\n",
       "      <td>33.000000</td>\n",
       "      <td>20.000000</td>\n",
       "      <td>18.571429</td>\n",
       "      <td>12.000000</td>\n",
       "      <td>16.200000</td>\n",
       "      <td>3.700000</td>\n",
       "      <td>3.510000</td>\n",
       "    </tr>\n",
       "  </tbody>\n",
       "</table>\n",
       "<p>8 rows × 36 columns</p>\n",
       "</div>"
      ],
      "text/plain": [
       "       Marital status  Application mode  Application order       Course  \\\n",
       "count     4424.000000       4424.000000        4424.000000  4424.000000   \n",
       "mean         1.178571         18.669078           1.727848  8856.642631   \n",
       "std          0.605747         17.484682           1.313793  2063.566416   \n",
       "min          1.000000          1.000000           0.000000    33.000000   \n",
       "25%          1.000000          1.000000           1.000000  9085.000000   \n",
       "50%          1.000000         17.000000           1.000000  9238.000000   \n",
       "75%          1.000000         39.000000           2.000000  9556.000000   \n",
       "max          6.000000         57.000000           9.000000  9991.000000   \n",
       "\n",
       "       Daytime/evening attendance\\t  Previous qualification  \\\n",
       "count                   4424.000000             4424.000000   \n",
       "mean                       0.890823                4.577758   \n",
       "std                        0.311897               10.216592   \n",
       "min                        0.000000                1.000000   \n",
       "25%                        1.000000                1.000000   \n",
       "50%                        1.000000                1.000000   \n",
       "75%                        1.000000                1.000000   \n",
       "max                        1.000000               43.000000   \n",
       "\n",
       "       Previous qualification (grade)  Nacionality  Mother's qualification  \\\n",
       "count                     4424.000000  4424.000000             4424.000000   \n",
       "mean                       132.613314     1.873192               19.561935   \n",
       "std                         13.188332     6.914514               15.603186   \n",
       "min                         95.000000     1.000000                1.000000   \n",
       "25%                        125.000000     1.000000                2.000000   \n",
       "50%                        133.100000     1.000000               19.000000   \n",
       "75%                        140.000000     1.000000               37.000000   \n",
       "max                        190.000000   109.000000               44.000000   \n",
       "\n",
       "       Father's qualification  ...  \\\n",
       "count             4424.000000  ...   \n",
       "mean                22.275316  ...   \n",
       "std                 15.343108  ...   \n",
       "min                  1.000000  ...   \n",
       "25%                  3.000000  ...   \n",
       "50%                 19.000000  ...   \n",
       "75%                 37.000000  ...   \n",
       "max                 44.000000  ...   \n",
       "\n",
       "       Curricular units 1st sem (without evaluations)  \\\n",
       "count                                     4424.000000   \n",
       "mean                                         0.137658   \n",
       "std                                          0.690880   \n",
       "min                                          0.000000   \n",
       "25%                                          0.000000   \n",
       "50%                                          0.000000   \n",
       "75%                                          0.000000   \n",
       "max                                         12.000000   \n",
       "\n",
       "       Curricular units 2nd sem (credited)  \\\n",
       "count                          4424.000000   \n",
       "mean                              0.541817   \n",
       "std                               1.918546   \n",
       "min                               0.000000   \n",
       "25%                               0.000000   \n",
       "50%                               0.000000   \n",
       "75%                               0.000000   \n",
       "max                              19.000000   \n",
       "\n",
       "       Curricular units 2nd sem (enrolled)  \\\n",
       "count                          4424.000000   \n",
       "mean                              6.232143   \n",
       "std                               2.195951   \n",
       "min                               0.000000   \n",
       "25%                               5.000000   \n",
       "50%                               6.000000   \n",
       "75%                               7.000000   \n",
       "max                              23.000000   \n",
       "\n",
       "       Curricular units 2nd sem (evaluations)  \\\n",
       "count                             4424.000000   \n",
       "mean                                 8.063291   \n",
       "std                                  3.947951   \n",
       "min                                  0.000000   \n",
       "25%                                  6.000000   \n",
       "50%                                  8.000000   \n",
       "75%                                 10.000000   \n",
       "max                                 33.000000   \n",
       "\n",
       "       Curricular units 2nd sem (approved)  Curricular units 2nd sem (grade)  \\\n",
       "count                          4424.000000                       4424.000000   \n",
       "mean                              4.435805                         10.230206   \n",
       "std                               3.014764                          5.210808   \n",
       "min                               0.000000                          0.000000   \n",
       "25%                               2.000000                         10.750000   \n",
       "50%                               5.000000                         12.200000   \n",
       "75%                               6.000000                         13.333333   \n",
       "max                              20.000000                         18.571429   \n",
       "\n",
       "       Curricular units 2nd sem (without evaluations)  Unemployment rate  \\\n",
       "count                                     4424.000000        4424.000000   \n",
       "mean                                         0.150316          11.566139   \n",
       "std                                          0.753774           2.663850   \n",
       "min                                          0.000000           7.600000   \n",
       "25%                                          0.000000           9.400000   \n",
       "50%                                          0.000000          11.100000   \n",
       "75%                                          0.000000          13.900000   \n",
       "max                                         12.000000          16.200000   \n",
       "\n",
       "       Inflation rate          GDP  \n",
       "count     4424.000000  4424.000000  \n",
       "mean         1.228029     0.001969  \n",
       "std          1.382711     2.269935  \n",
       "min         -0.800000    -4.060000  \n",
       "25%          0.300000    -1.700000  \n",
       "50%          1.400000     0.320000  \n",
       "75%          2.600000     1.790000  \n",
       "max          3.700000     3.510000  \n",
       "\n",
       "[8 rows x 36 columns]"
      ]
     },
     "execution_count": 7,
     "metadata": {},
     "output_type": "execute_result"
    }
   ],
   "source": [
    "df.describe()"
   ]
  },
  {
   "cell_type": "code",
   "execution_count": 11,
   "id": "c7fb2561-1772-4fce-8081-508651f85bcf",
   "metadata": {},
   "outputs": [
    {
     "ename": "AttributeError",
     "evalue": "'int' object has no attribute 'sum'",
     "output_type": "error",
     "traceback": [
      "\u001b[1;31m---------------------------------------------------------------------------\u001b[0m",
      "\u001b[1;31mAttributeError\u001b[0m                            Traceback (most recent call last)",
      "Cell \u001b[1;32mIn[11], line 1\u001b[0m\n\u001b[1;32m----> 1\u001b[0m \u001b[43mdf\u001b[49m\u001b[43m[\u001b[49m\u001b[38;5;124;43m'\u001b[39;49m\u001b[38;5;124;43mTarget\u001b[39;49m\u001b[38;5;124;43m'\u001b[39;49m\u001b[43m]\u001b[49m\u001b[38;5;241;43m.\u001b[39;49m\u001b[43mnunique\u001b[49m\u001b[43m(\u001b[49m\u001b[43m)\u001b[49m\u001b[38;5;241;43m.\u001b[39;49m\u001b[43msum\u001b[49m()\n",
      "\u001b[1;31mAttributeError\u001b[0m: 'int' object has no attribute 'sum'"
     ]
    }
   ],
   "source": [
    "df['Target'].nunique().sum()"
   ]
  },
  {
   "cell_type": "code",
   "execution_count": 12,
   "id": "c51df353-ed7d-4b8c-aed0-6370194a8303",
   "metadata": {},
   "outputs": [
    {
     "data": {
      "text/plain": [
       "4424"
      ]
     },
     "execution_count": 12,
     "metadata": {},
     "output_type": "execute_result"
    }
   ],
   "source": [
    "df['Target'].count()"
   ]
  },
  {
   "cell_type": "code",
   "execution_count": 32,
   "id": "9d0dbc3a-3e3b-44d9-b0ac-296f4646f4e5",
   "metadata": {},
   "outputs": [
    {
     "data": {
      "text/plain": [
       "2209"
      ]
     },
     "execution_count": 32,
     "metadata": {},
     "output_type": "execute_result"
    }
   ],
   "source": [
    "b=(df['Target']==\"Graduate\")\n",
    "b.sum()\n"
   ]
  },
  {
   "cell_type": "code",
   "execution_count": 31,
   "id": "1ba9cf56-82e5-4da7-81ad-bb4f48fafb43",
   "metadata": {},
   "outputs": [
    {
     "data": {
      "text/plain": [
       "794"
      ]
     },
     "execution_count": 31,
     "metadata": {},
     "output_type": "execute_result"
    }
   ],
   "source": [
    "c=(df['Target']==\"Enrolled\")\n",
    "c.sum()"
   ]
  },
  {
   "cell_type": "code",
   "execution_count": 36,
   "id": "8a1347de-75b2-4cd1-b9b3-91aa2b0bf244",
   "metadata": {},
   "outputs": [
    {
     "data": {
      "text/plain": [
       "1421"
      ]
     },
     "execution_count": 36,
     "metadata": {},
     "output_type": "execute_result"
    }
   ],
   "source": [
    "d=(df['Target']==\"Dropout\")\n",
    "d.sum()"
   ]
  },
  {
   "cell_type": "code",
   "execution_count": 53,
   "id": "752effae-e680-4fec-a551-4e58bf3bb4da",
   "metadata": {},
   "outputs": [
    {
     "name": "stdout",
     "output_type": "stream",
     "text": [
      "0        171\n",
      "1       9254\n",
      "2       9070\n",
      "3       9773\n",
      "4       8014\n",
      "        ... \n",
      "4419    9773\n",
      "4420    9773\n",
      "4421    9500\n",
      "4422    9147\n",
      "4423    9773\n",
      "Name: Course, Length: 4424, dtype: int64\n"
     ]
    }
   ],
   "source": [
    "course=(df['Course'])\n",
    "print(course)"
   ]
  },
  {
   "cell_type": "code",
   "execution_count": 39,
   "id": "ca0c2dfb-275e-481b-a4eb-9b541a22004f",
   "metadata": {},
   "outputs": [
    {
     "data": {
      "text/plain": [
       "array([ 171, 9254, 9070, 9773, 8014, 9991, 9500, 9238, 9670, 9853, 9085,\n",
       "       9130, 9556, 9147, 9003,   33, 9119], dtype=int64)"
      ]
     },
     "execution_count": 39,
     "metadata": {},
     "output_type": "execute_result"
    }
   ],
   "source": [
    "course.unique()"
   ]
  },
  {
   "cell_type": "code",
   "execution_count": 56,
   "id": "d3442f1d-ca38-4f36-8fbd-7286e29098f2",
   "metadata": {},
   "outputs": [],
   "source": [
    "#coursegraduates=df[(df['Course']=='171')]\n",
    "#print(coursegraduates.head())\n",
    "#coursegraduates=(coursegraduates['Target']==\"Graduate\")"
   ]
  },
  {
   "cell_type": "code",
   "execution_count": 82,
   "id": "291656cf-4466-40b3-9b00-119a4803266e",
   "metadata": {},
   "outputs": [
    {
     "name": "stdout",
     "output_type": "stream",
     "text": [
      "      Course    Target\n",
      "0        171   Dropout\n",
      "1       9254  Graduate\n",
      "2       9070   Dropout\n",
      "3       9773  Graduate\n",
      "4       8014  Graduate\n",
      "...      ...       ...\n",
      "4419    9773  Graduate\n",
      "4420    9773   Dropout\n",
      "4421    9500   Dropout\n",
      "4422    9147  Graduate\n",
      "4423    9773  Graduate\n",
      "\n",
      "[4424 rows x 2 columns]\n"
     ]
    }
   ],
   "source": [
    "coursegraduates=df[[\"Course\",\"Target\"]]\n",
    "\n",
    "#coursegraduates=df[((df['Course']=='9254'))]\n",
    "print(coursegraduates)\n",
    "#cg=coursegraduates.astype(str)+(df['Target']==\"Graduate\").astype(str)\n",
    "#print (cg)"
   ]
  },
  {
   "cell_type": "code",
   "execution_count": 104,
   "id": "ece2fb98-4e49-4a3f-8c71-12b81f41fa13",
   "metadata": {},
   "outputs": [],
   "source": [
    "#coursegraduates = [x for x in df if df.Course=='171']\n",
    "#print (coursegraduates)"
   ]
  },
  {
   "cell_type": "code",
   "execution_count": 111,
   "id": "f1029d22-6924-4a8c-96c9-11c09d61f758",
   "metadata": {},
   "outputs": [
    {
     "name": "stdout",
     "output_type": "stream",
     "text": [
      "Marital status                                    96\n",
      "Application mode                                  96\n",
      "Application order                                 96\n",
      "Course                                            96\n",
      "Daytime/evening attendance\\t                      96\n",
      "Previous qualification                            96\n",
      "Previous qualification (grade)                    96\n",
      "Nacionality                                       96\n",
      "Mother's qualification                            96\n",
      "Father's qualification                            96\n",
      "Mother's occupation                               96\n",
      "Father's occupation                               96\n",
      "Admission grade                                   96\n",
      "Displaced                                         96\n",
      "Educational special needs                         96\n",
      "Debtor                                            96\n",
      "Tuition fees up to date                           96\n",
      "Gender                                            96\n",
      "Scholarship holder                                96\n",
      "Age at enrollment                                 96\n",
      "International                                     96\n",
      "Curricular units 1st sem (credited)               96\n",
      "Curricular units 1st sem (enrolled)               96\n",
      "Curricular units 1st sem (evaluations)            96\n",
      "Curricular units 1st sem (approved)               96\n",
      "Curricular units 1st sem (grade)                  96\n",
      "Curricular units 1st sem (without evaluations)    96\n",
      "Curricular units 2nd sem (credited)               96\n",
      "Curricular units 2nd sem (enrolled)               96\n",
      "Curricular units 2nd sem (evaluations)            96\n",
      "Curricular units 2nd sem (approved)               96\n",
      "Curricular units 2nd sem (grade)                  96\n",
      "Curricular units 2nd sem (without evaluations)    96\n",
      "Unemployment rate                                 96\n",
      "Inflation rate                                    96\n",
      "GDP                                               96\n",
      "Target                                            96\n",
      "dtype: int64\n"
     ]
    }
   ],
   "source": [
    "graduates=df[df[\"Target\"]=='Graduate'] \n",
    "graduate=graduates[graduates['Course']==171]\n",
    "print(graduate.count())\n",
    "\n",
    "graduate.plot('"
   ]
  },
  {
   "cell_type": "code",
   "execution_count": null,
   "id": "32400ff0-43f6-4041-be35-37b831d5f02f",
   "metadata": {},
   "outputs": [],
   "source": [
    "#I HAVE ENTERED THE SYSTEM\n"
   ]
  },
  {
   "cell_type": "code",
   "execution_count": null,
   "id": "12da89c8",
   "metadata": {},
   "outputs": [],
   "source": [
    "# junk code that I made while working on homework. It might be useful in the future.\n",
    "\n",
    "# uniquevalues=pd.Series(df[col]).drop_duplicates().dropna().tolist()\n",
    "#    approved_counts=[]\n",
    "#    denied_counts=[]\n",
    "#    print(uniquevalues)\n",
    "#    for x in uniquevalues:\n",
    "#        approved_counts.append(df[col].loc[((df['Loan_Status']=='Y') & (df[col]==x))].count())\n",
    "#        denied_counts.append(df[col].loc[((df['Loan_Status']=='N') & (df[col]==x))].count())\n",
    "    #approved_counts=df[col].loc[(df['Loan_Status']=='Y')]\n",
    "    #denied_counts=df[col].loc[(df['Loan_Status']=='N')]\n",
    "    "
   ]
  },
  {
   "cell_type": "code",
   "execution_count": null,
   "id": "68f04040",
   "metadata": {},
   "outputs": [],
   "source": []
  }
 ],
 "metadata": {
  "kernelspec": {
   "display_name": "Python 3 (ipykernel)",
   "language": "python",
   "name": "python3"
  },
  "language_info": {
   "codemirror_mode": {
    "name": "ipython",
    "version": 3
   },
   "file_extension": ".py",
   "mimetype": "text/x-python",
   "name": "python",
   "nbconvert_exporter": "python",
   "pygments_lexer": "ipython3",
   "version": "3.11.5"
  }
 },
 "nbformat": 4,
 "nbformat_minor": 5
}
